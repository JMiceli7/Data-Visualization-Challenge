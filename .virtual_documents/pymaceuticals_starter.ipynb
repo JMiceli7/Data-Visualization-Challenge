


# Dependencies and Setup
import matplotlib.pyplot as plt
import pandas as pd
import scipy.stats as st
import numpy as np


# Study data files
mouse_metadata_path = "data/Mouse_metadata.csv"
study_results_path = "data/Study_results.csv"

# Read the mouse data and the study results
mouse_metadata = pd.read_csv(mouse_metadata_path)
study_results = pd.read_csv(study_results_path)

# Combine the data into a single DataFrame
combined_study = pd.merge(study_results, mouse_metadata, on="Mouse ID")


# Display the data table for preview
combined_study.head()


# Checking the number of mice.
mouse_count = len(combined_study["Mouse ID"].value_counts())
mouse_count


# Our data should be uniquely identified by Mouse ID and Timepoint
# Get the duplicate mice by ID number that shows up for Mouse ID and Timepoint. 

duplicate_mice = combined_study.loc[combined_study.duplicated(subset=["Mouse ID", "Timepoint"]), "Mouse ID"].unique() 
duplicate_mice


# Optional: Get all the data for the duplicate mouse ID. 

mouse_id = 'g989'
duplicate_data = combined_study.loc[combined_study['Mouse ID'] == mouse_id]
duplicate_data



# Create a clean DataFrame by dropping the duplicate mouse by its ID.

# cleaned_study = combined_study.drop_duplicates(subset="Mouse ID")
# cleaned_study

cleaned_study = combined_study.drop(combined_study[combined_study['Mouse ID'] == 'g989'].index)
cleaned_study.head()


# Checking the number of mice in the clean DataFrame.
cleaned_mouse_count = len(cleaned_study["Mouse ID"].value_counts())
cleaned_mouse_count





# Generate a summary statistics table of mean, median, variance, standard deviation, and SEM of the tumor volume for each regimen

# Use groupby and summary statistical methods to calculate the following properties of each drug regimen: 
# mean, median, variance, standard deviation, and SEM of the tumor volume. 
# Assemble the resulting series into a single summary DataFrame.

summary_mean = combined_study.groupby('Drug Regimen')['Tumor Volume (mm3)'].mean()
summary_median = combined_study.groupby('Drug Regimen')['Tumor Volume (mm3)'].median()
summary_var = combined_study.groupby('Drug Regimen')['Tumor Volume (mm3)'].var()
summary_std = combined_study.groupby('Drug Regimen')['Tumor Volume (mm3)'].std()
summary_sem = combined_study.groupby('Drug Regimen')['Tumor Volume (mm3)'].sem()

summary_df = pd.DataFrame({
    "Mean Tumor Volume": summary_mean,
    "Median Tumor Volume": summary_median,
    "Tumor Volume Variance": summary_var,
    "Tumor Volume Std. Dev.": summary_std,
    "Tumor Volume Std. Err.": summary_sem
})

summary_df


combined_study.groupby('Drug Regimen')["Tumor Volume (mm3)"].mean()


# A more advanced method to generate a summary statistics table of mean, median, variance, standard deviation,
# and SEM of the tumor volume for each regimen (only one method is required in the solution)

# Using the aggregation method, produce the same summary statistics in a single line

summary_df = combined_study.groupby('Drug Regimen').agg({"Tumor Volume (mm3)":[
    'mean', 'median', 'var', 'std', 'sem']})
summary_df





counts = cleaned_study['Drug Regimen'].value_counts()
counts.plot(kind='bar')
plt.ylabel('Timepoints')
plt.show()


counts


# Generate a bar plot showing the total number of rows (Mouse ID/Timepoints) for each drug regimen using Pandas.


cleaned_study.groupby('Drug Regimen')['Timepoint'].count().plot(kind='bar', figsize=(8,3), xlabel='Drug Regimen', ylabel='# of Observed Mouse Timepoints')
plt.show()




# Generate a bar plot showing the total number of rows (Mouse ID/Timepoints) for each drug regimen using pyplot.


cleaned_study.groupby('Drug Regimen')['Timepoint'].count().plot(kind='bar', figsize=(8, 4))

plt.xlabel('Drug Regimen')
plt.ylabel('# of Observed Mouse Timepoints')

plt.show()



# Generate a pie plot showing the distribution of female versus male mice using Pandas


cleaned_study["Sex"].value_counts().plot.pie(autopct='%1.1f%%', figsize=(4, 4))
plt.title('Sex', loc='left')
plt.show()



# Generate a pie plot showing the distribution of female versus male mice using pyplot

plt.pie(cleaned_study["Sex"].value_counts(), labels=cleaned_study["Sex"].unique(), autopct='%1.1f%%')
plt.title('Sex', loc='left')  
plt.show()





# Calculate the final tumor volume of each mouse across four of the treatment regimens:  
# Capomulin, Ramicane, Infubinol, and Ceftamin


# Start by getting the last (greatest) timepoint for each mouse

max_tumor_volume = cleaned_study.groupby('Mouse ID')['Timepoint'].max()
max_tumor_volume=max_tumor_volume.reset_index()
max_tumor_volume


# Merge this group df with the original DataFrame to get the tumor volume at the last timepoint
merged = max_tumor_volume.merge(cleaned_study,on=['Mouse ID','Timepoint'],how='left')
merged.head()


# Put treatments into a list for for loop (and later for plot labels)
treatments = merged['Drug Regimen'].unique()

treatments = ['Capomulin', 'Ramicane', 'Infubinol','Ceftamin']

# Create empty list to fill with tumor vol data (for plotting)
tumor_vol_data = []

# Calculate the IQR and quantitatively determine if there are any potential outliers. 

for treatment in treatments:
    treatment_data = merged[merged['Drug Regimen'] == treatment]
    tumor_volumes = treatment_data['Tumor Volume (mm3)']
    tumor_vol_data.append(tumor_volumes)



# Locate the rows which contain mice on each drug and get the tumor volumes


    quartiles = tumor_volumes.quantile([.25,.5,.75])
    lowerq = quartiles[0.25]
    upperq = quartiles[0.75]
    iqr = upperq-lowerq
    print(f"The interquartile range is: {iqr}")
    
    # Determine outliers using upper and lower bounds
    outliers = treatment_data[(tumor_volumes < lowerq - 1.5 * iqr) | (tumor_volumes > upperq + 1.5 * iqr)]
    
    # Print potential outliers
    print(f"'{treatment}'s potential outliers: {outliers}")



# Generate a box plot that shows the distrubution of the tumor volume for each treatment group.
plt.figure(figsize=(7, 6))
plt.boxplot(tumor_vol_data, labels=treatments)
plt.ylabel('Final Tumor Volume (mm3)')
plt.show()






capomulin_data = merged[merged['Drug Regimen'] == 'Capomulin']
capomulin_data.head()


merged[(merged['Mouse ID'] == 'b128')]['Drug Regimen'].unique()


# Generate a line plot of tumor volume vs. time point for a single mouse treated with Capomulin

mouse_id = 'b128'

mouse_data = cleaned_study[(cleaned_study['Mouse ID'] == mouse_id) & (cleaned_study['Drug Regimen'] == 'Capomulin')]

plt.plot(mouse_data['Timepoint'], mouse_data['Tumor Volume (mm3)'])

plt.xlabel('Timepoints (Days)')
plt.ylabel('Tumor Volume (mm3)')
plt.title('Tumor Volume Over Time for Mouse b128 on Capomulin')
plt.show()


# Generate a scatter plot of mouse weight vs. the average observed tumor volume for the entire Capomulin regimen

plt.scatter(capomulin_data['Weight (g)'], capomulin_data['Tumor Volume (mm3)'])

plt.xlabel('Weight (g)')
plt.ylabel('Tumor Volume (mm3)')
plt.title('Weight vs. Tumor Volume in Capomulin Regimen')
plt.show()





# Calculate the correlation coefficient and a linear regression model 
# for mouse weight and average observed tumor volume for the entire Capomulin regimen

weight = capomulin_data['Weight (g)']
tumor_volume = capomulin_data['Tumor Volume (mm3)']
slope, intercept, r, p, std_err = st.linregress(weight, tumor_volume)
fit = slope * weight + intercept

print(f"Correlation Coefficient: {r:.2f}")

plt.scatter(weight, tumor_volume)
plt.plot(weight, fit, "--")  

plt.xlabel('Weight (g)')
plt.ylabel('Tumor Volume (mm3)')
plt.title('Weight vs. Tumor Volume in Capomulin Regimen')
plt.show()



